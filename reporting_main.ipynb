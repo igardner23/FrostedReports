{
  "nbformat": 4,
  "nbformat_minor": 0,
  "metadata": {
    "colab": {
      "name": "reporting_bak.ipynb",
      "provenance": [],
      "collapsed_sections": [],
      "authorship_tag": "ABX9TyOev6qjMGe+ZTzGeFBywGNO",
      "include_colab_link": true
    },
    "kernelspec": {
      "name": "python3",
      "display_name": "Python 3"
    }
  },
  "cells": [
    {
      "cell_type": "markdown",
      "metadata": {
        "id": "view-in-github",
        "colab_type": "text"
      },
      "source": [
        "<a href=\"https://colab.research.google.com/github/igardner23/FrostedReports/blob/master/reporting_main.ipynb\" target=\"_parent\"><img src=\"https://colab.research.google.com/assets/colab-badge.svg\" alt=\"Open In Colab\"/></a>"
      ]
    },
    {
      "cell_type": "markdown",
      "metadata": {
        "id": "qWhEIEzUmAYU"
      },
      "source": [
        "Harrison:API(\n",
        "        url=\"http://harrison.frostedleaf.co\",\n",
        "        consumer_key=\"ck_35492293d682ff14ffb5da8e0ba39a757048c2b6\",\n",
        "        consumer_secret=\"cs_2c647287461a14cd8d41354a85dabdef198bee3f\",\n",
        "        version=\"wc/v1\"\n",
        "    )\n"
      ]
    },
    {
      "cell_type": "code",
      "metadata": {
        "id": "EtjP1TK7mBIt"
      },
      "source": [
        ""
      ],
      "execution_count": null,
      "outputs": []
    },
    {
      "cell_type": "markdown",
      "metadata": {
        "id": "2mhIOk28mANp"
      },
      "source": [
        ""
      ]
    },
    {
      "cell_type": "code",
      "metadata": {
        "id": "rLj2k6W9Zayu",
        "outputId": "628c8a9b-1aa8-452a-993b-eb58c916e5cb",
        "colab": {
          "base_uri": "https://localhost:8080/"
        }
      },
      "source": [
        "!pip install woocommerce\n"
      ],
      "execution_count": 1,
      "outputs": [
        {
          "output_type": "stream",
          "text": [
            "Collecting woocommerce\n",
            "  Downloading https://files.pythonhosted.org/packages/bd/44/abdc600cba81bc8987545569263be4422cbb98cdb0dcef3b92a9a1623b53/WooCommerce-2.1.1.tar.gz\n",
            "Requirement already satisfied: requests in /usr/local/lib/python3.6/dist-packages (from woocommerce) (2.23.0)\n",
            "Collecting ordereddict\n",
            "  Downloading https://files.pythonhosted.org/packages/53/25/ef88e8e45db141faa9598fbf7ad0062df8f50f881a36ed6a0073e1572126/ordereddict-1.1.tar.gz\n",
            "Requirement already satisfied: certifi>=2017.4.17 in /usr/local/lib/python3.6/dist-packages (from requests->woocommerce) (2020.6.20)\n",
            "Requirement already satisfied: chardet<4,>=3.0.2 in /usr/local/lib/python3.6/dist-packages (from requests->woocommerce) (3.0.4)\n",
            "Requirement already satisfied: urllib3!=1.25.0,!=1.25.1,<1.26,>=1.21.1 in /usr/local/lib/python3.6/dist-packages (from requests->woocommerce) (1.24.3)\n",
            "Requirement already satisfied: idna<3,>=2.5 in /usr/local/lib/python3.6/dist-packages (from requests->woocommerce) (2.10)\n",
            "Building wheels for collected packages: woocommerce, ordereddict\n",
            "  Building wheel for woocommerce (setup.py) ... \u001b[?25l\u001b[?25hdone\n",
            "  Created wheel for woocommerce: filename=WooCommerce-2.1.1-cp36-none-any.whl size=6414 sha256=00cfcaf17ae792fb1963cc8d77f2189c59eac7767baf4b4a44a0c7961318b352\n",
            "  Stored in directory: /root/.cache/pip/wheels/be/07/ed/97c52b6fc4760667ede55c791aa57804fbd296ebf53bcb86a1\n",
            "  Building wheel for ordereddict (setup.py) ... \u001b[?25l\u001b[?25hdone\n",
            "  Created wheel for ordereddict: filename=ordereddict-1.1-cp36-none-any.whl size=3554 sha256=d6eb51382365b8d3ec035e6ea906c98a07a844aec2ce2b25143ff8264e3bd0b6\n",
            "  Stored in directory: /root/.cache/pip/wheels/78/d3/a8/9f52c7a389a0ffba6f575a3886b5f7a55461fb6ec34aa5fd38\n",
            "Successfully built woocommerce ordereddict\n",
            "Installing collected packages: ordereddict, woocommerce\n",
            "Successfully installed ordereddict-1.1 woocommerce-2.1.1\n"
          ],
          "name": "stdout"
        }
      ]
    },
    {
      "cell_type": "code",
      "metadata": {
        "id": "rIafF41IZPX5"
      },
      "source": [
        "\n",
        "from woocommerce import API  \n",
        "federal={'url':'http://www.frostedleaf.com/selfserve', 'consumerkey':'ck_19e902128d4171e9c304f6a4cd2b6a87d719a3e3', 'secretkey':'cs_0e3db2bc275be63d4365c3a9335ef71d0bc24f81'}  \n",
        "wcapi = API(\n",
        "        url=federal['url'],\n",
        "        consumer_key=federal['consumerkey'],\n",
        "        consumer_secret=federal['secretkey'],\n",
        "        version=\"wc/v1\"\n",
        "    )"
      ],
      "execution_count": 2,
      "outputs": []
    },
    {
      "cell_type": "markdown",
      "metadata": {
        "id": "yI2JmfkXZZm_"
      },
      "source": [
        "Import the WooCommerce API and initialize it with API Keys and sitename, v1 API at the moment, god need to throw this whole thing away."
      ]
    },
    {
      "cell_type": "code",
      "metadata": {
        "id": "k1UKX_PDZyEo"
      },
      "source": [
        "TestBatch=wcapi.get('orders', params={'per_page':100}).json()"
      ],
      "execution_count": 3,
      "outputs": []
    },
    {
      "cell_type": "code",
      "metadata": {
        "id": "eCLtQuWoe_aU",
        "outputId": "a57d8201-256b-4d0a-cb9b-a3718f8a5301",
        "colab": {
          "base_uri": "https://localhost:8080/"
        }
      },
      "source": [
        "from datetime import datetime\n",
        "datetime.strptime(TestBatch[0]['date_completed'], '%Y-%m-%dT%H:%M:%S')"
      ],
      "execution_count": 4,
      "outputs": [
        {
          "output_type": "execute_result",
          "data": {
            "text/plain": [
              "datetime.datetime(2020, 11, 13, 6, 9, 5)"
            ]
          },
          "metadata": {
            "tags": []
          },
          "execution_count": 4
        }
      ]
    },
    {
      "cell_type": "markdown",
      "metadata": {
        "id": "KPNkLGW2amdW"
      },
      "source": [
        "Pull first 100 orders ((Still have to add in my pagination function))"
      ]
    },
    {
      "cell_type": "code",
      "metadata": {
        "id": "NRO1qp9RZ9mM",
        "outputId": "6e5bbbb5-9e11-48a8-a00e-719c6b78c048",
        "colab": {
          "base_uri": "https://localhost:8080/"
        }
      },
      "source": [
        "import pandas as pd\n",
        "from datetime import datetime\n",
        "df=pd.DataFrame(TestBatch)\n",
        "df['date_completed']\n"
      ],
      "execution_count": 5,
      "outputs": [
        {
          "output_type": "execute_result",
          "data": {
            "text/plain": [
              "0     2020-11-13T06:09:05\n",
              "1     2020-11-12T22:02:46\n",
              "2     2020-11-12T21:46:22\n",
              "3     2020-11-12T21:44:48\n",
              "4     2020-11-12T21:14:33\n",
              "             ...         \n",
              "95    2020-11-12T08:46:22\n",
              "96    2020-11-12T16:42:35\n",
              "97    2020-11-12T21:56:12\n",
              "98    2020-11-12T12:23:16\n",
              "99    2020-11-11T21:54:32\n",
              "Name: date_completed, Length: 100, dtype: object"
            ]
          },
          "metadata": {
            "tags": []
          },
          "execution_count": 5
        }
      ]
    },
    {
      "cell_type": "code",
      "metadata": {
        "id": "jSXJfWOG20PE"
      },
      "source": [
        "tester=[batch for batch in TestBatch if [x for x in batch['line_items'] if x['composite_parent']!='']]"
      ],
      "execution_count": 6,
      "outputs": []
    },
    {
      "cell_type": "markdown",
      "metadata": {
        "id": "WHOiEkpBajFP"
      },
      "source": [
        "For ease of access taking the initial 100 orders pulled and putting them into a dataframe. Everything looks good, now to create the actual report. In order to do this, I need to iterate through each order pulling the datetime of the order, and information from each line item of the order. Then I will need to take each line item and grab the variation and product information."
      ]
    },
    {
      "cell_type": "code",
      "metadata": {
        "id": "0brPKiYU5XEj",
        "outputId": "95760bba-0195-4df7-fdf8-737299eb7927",
        "colab": {
          "base_uri": "https://localhost:8080/"
        }
      },
      "source": [
        "tester"
      ],
      "execution_count": 7,
      "outputs": [
        {
          "output_type": "execute_result",
          "data": {
            "text/plain": [
              "[]"
            ]
          },
          "metadata": {
            "tags": []
          },
          "execution_count": 7
        }
      ]
    },
    {
      "cell_type": "code",
      "metadata": {
        "id": "KJ10_e8ucaSQ"
      },
      "source": [
        "def GenerateProducts(thedate):\n",
        "  ProductOrders=[]\n",
        "  page=1\n",
        "  ## First iterate through until we find a page that contains the date.\n",
        "  while thedate not in [order['date_completed'].split('T')[0] for order in wcapi.get('orders', params={'per_page':100, 'page':page}).json()]:\n",
        "    page+=1\n",
        "    print('No orders detected, trying page number '+str(page))\n",
        "  ## Then we want to repeat the product adding for each page that DOES contain the date\n",
        "  while thedate in [order['date_completed'].split('T')[0] for order in wcapi.get('orders', params={'per_page':100, 'page':page}).json()]:\n",
        "    orderbatch=wcapi.get('orders', params={'per_page':100, 'page':page}).json()\n",
        "    ## Just defining that as a variable we're going to loop through, I probably could just get this a single time and write with alot less API calls\n",
        "    for order in orderbatch:\n",
        "      timestamp=datetime.strptime(order['date_completed'], '%Y-%m-%dT%H:%M:%S')\n",
        "      ## Grab the timestamp from the order.\n",
        "      for line_item in order['line_items']:\n",
        "        if line_item['variation_id'] == 0:\n",
        "          ProductOrders.append({'datetime':timestamp, 'lineitem':line_item, 'product_info':wcapi.get('products/'+str(line_item['product_id'])).json()})\n",
        "        else:\n",
        "          ProductOrders.append({'datetime':timestamp, 'lineitem':line_item, 'product_info':wcapi.get('products/'+str(line_item['variation_id'])).json()})\n",
        "    return ProductOrders\n",
        "\n",
        "    \n",
        "    \n",
        "\n",
        "def GenerateReport(ProductList):\n",
        "    Report=[]\n",
        "    Compositer={}\n",
        "    for productinfo in ProductList:\n",
        "        ## Sets the variable productinfo for each item in ProductList\n",
        "        ## If you see this weird shit, just split it.\n",
        "        if 'LeafCoin' in productinfo['product_info']['name']:\n",
        "          continue\n",
        "        if '&rarr;' in productinfo['product_info']['name']:\n",
        "            productinfo['product_info']['name']=productinfo['product_info']['name'].split('&rarr;')[1].replace('-',' ')\n",
        "        productinfo['product_info']['name']=productinfo['product_info']['name'].replace('-',' ')\n",
        "        ## Then let's go ahead and set up that weight variable for use in Total Weight and Unit of Measure\n",
        "        print(productinfo['product_info']['weight'], productinfo['product_info']['name'])\n",
        "        if productinfo['product_info']['weight'] == '':\n",
        "            ## Ugh, I have to be able to filter this better, maybe turning it into a function? Turning the\n",
        "            ## For loop into something else?\n",
        "            ## IDK\n",
        "            productinfo['product_info']['weight']=1\n",
        "            ## Reuse these things for the weight limiting even though that will probably not function...\n",
        "            ## Ugh direly need to start implementing a number of things ughhh\n",
        "        if productinfo['lineitem']['quantity'] > 1:\n",
        "            weight=float(productinfo['product_info']['weight'])*productinfo['lineitem']['quantity']\n",
        "        else:\n",
        "            weight=float(productinfo['product_info']['weight'])\n",
        "        if 'Flower' in [category['name'] for category in productinfo['product_info']['categories']]:\n",
        "            typeweight='Grams'\n",
        "        else:\n",
        "            typeweight='Each'\n",
        "        if len(productinfo['lineitem']['composite_children']) > 0:\n",
        "          Compositer[str(productinfo['lineitem']['id'])]=float(productinfo['lineitem']['price'])/len(productinfo['lineitem']['composite_children'])\n",
        "          print(str(productinfo['lineitem']['id']))\n",
        "          continue\n",
        "        if str(productinfo['lineitem']['composite_parent']) in Compositer.keys():\n",
        "          productinfo['lineitem']['price'] = Compositer[ str( productinfo['lineitem']['composite_parent'] ) ]\n",
        "          print(productinfo['lineitem']['price'])\n",
        "        Report.append({'Date and Time':productinfo['datetime'],\n",
        "                       'Product Info': productinfo['product_info']['name'],\n",
        "                       'METRC Tag': productinfo['lineitem']['sku'],\n",
        "                       'Total Weight':weight,\n",
        "                       'Unit of Measure':typeweight,\n",
        "                       'SubTotal':round(float(productinfo['lineitem']['price'])*float(productinfo['lineitem']['quantity']),2)\n",
        "                       })\n",
        "    return Report"
      ],
      "execution_count": 8,
      "outputs": []
    },
    {
      "cell_type": "code",
      "metadata": {
        "id": "PALHPQ10hgdK",
        "outputId": "96e1ed58-ee9d-4fec-f225-4c999f7f2914",
        "colab": {
          "base_uri": "https://localhost:8080/"
        }
      },
      "source": [
        "TestProducts=GenerateProducts('2020-11-12')\n",
        "FirstMETRC=GenerateReport(TestProducts)\n",
        "df=pd.DataFrame(FirstMETRC).sort_values(by='Date and Time')\n",
        "df.to_csv('./Federal2020_11_12.csv')"
      ],
      "execution_count": 10,
      "outputs": [
        {
          "output_type": "stream",
          "text": [
            "3.55  Shake\n",
            "1 Chronic Creations | Wax   1G\n",
            " Juicy | Hemp Wraps\n",
            "3.55  Shake\n",
            "3.55  Shake\n",
            "1 Greenleaf Concentrates | Budder   1G\n",
            "1 Greenleaf Concentrates | Budder   1G\n",
            "1 Greenleaf Concentrates | Budder   1G\n",
            "1 Greenleaf Concentrates | Budder   1G\n",
            "1 Canyon Cultivation | Suck IT   100mg\n",
            "3.55  Shake\n",
            "28.0  Shake\n",
            "3.55  Shake\n",
            "1   Single Pre Rolls\n",
            "1   Single Pre Rolls\n",
            "1   Single Pre Rolls\n",
            "1   Single Pre Rolls\n",
            "28.0  Shake\n",
            "28.0  Shake\n",
            "3.55  Dark Desire (I) | Eighth\n",
            " Pipe | Small\n",
            "1 Gas Factory | Gummies   100mg\n",
            "1 Gas Factory | Gummies   100mg\n",
            "1 Altus | Gummies   100mg\n",
            "1 Altus | Gummies   100mg\n",
            "1   Kaviar | Joint – 1.5G\n",
            "3.55  Shake\n",
            "28.0  Shake\n",
            "3.55  Cosmonaut (S) | Eighth\n",
            "3.55  Dark Desire (I) | Eighth\n",
            "3.55  Witches Weed (S) | Eighth\n",
            "1 Greenleaf Concentrates | Budder   1G\n",
            "1 Gas Factory | Gummies   100mg\n",
            "1 Gas Factory | Gummies   100mg\n",
            " Juicy | Hemp Wraps\n",
            " Raw Cones   $5\n",
            "1.05  Sundae Driver (H) | Gram\n",
            "1.05  Secret Mints (H) | Gram\n",
            "3.55  Shake\n",
            "1 Kaviar | Infused Bud   1G\n",
            "1   Single Pre Rolls\n",
            "1 Kaviar | Infused Bud   1G\n",
            "3.55  Shake\n",
            "1.05  Secret Mints (H) | Gram\n",
            "1.05  Sundae Driver (H) | Gram\n",
            " High Hemp | Organic Wraps\n",
            "1   Single Pre Rolls\n",
            "1 Harmony Orders\n",
            "1.05  Gelato (I) | Gram\n",
            "1 Concentrate Supply Co. | High Terpene Sauce Cart   500mg\n",
            "3.55  Shake\n",
            "1 Gas Factory | Gummies   100mg\n",
            "28.0  Shake\n",
            "1.05  Apple Fritter (H) | Gram\n",
            "1.05  Secret Mints (H) | Gram\n",
            "1.05  Juggernaut (S) | Gram\n",
            "3.55  Juggernaut (S) | Eighth\n",
            "3.55  Witches Weed (S) | Eighth\n",
            "3.55  AK 47 (S) | Eighth\n",
            "1 Chronic Creations | Shatter   1G\n",
            "1 Altus | Gummies   100mg\n",
            "3.55  Gelato Cake (I) | Eighth\n",
            "1   Single Pre Rolls\n",
            "1   Single Pre Rolls\n",
            "3.55  Shake\n",
            "5   Pre Rolled Joints   5 for $25\n",
            "3.55  Shake\n",
            "5   Pre Rolled Joints   5 for $25\n",
            "1.05  Apple Fritter (H) | Gram\n",
            "3.55  Shake\n",
            "3.55  Shake\n",
            "1.05  Cosmonaut (S) | Gram\n",
            "5   Pre Rolled Joints   5 for $25\n",
            "3.55  Shake\n",
            "3.55  Shake\n",
            " High Hemp | Organic Wraps\n",
            "1 Gas Factory | Gummies   100mg\n",
            "28.0  Shake\n",
            "28.0  Shake\n",
            " Juicy | Hemp Wraps\n",
            "3.55  Shake\n",
            "3.55  Shake\n",
            "1 Canyon Cultivation | Suck IT   100mg\n",
            "5   Pre Rolled Joints   5 for $25\n",
            "5   Pre Rolled Joints   5 for $25\n",
            "28.0  Shake\n",
            "3.55  Shake\n",
            "1 Greenleaf Concentrates | Budder   1G\n",
            "28.0  Shake\n",
            "1 Chronic Creations | Shatter   1G\n",
            "3.55  Gelato Cake (I) | Eighth\n",
            "1   Single Pre Rolls\n",
            "1   Kaviar | Joint – 1.5G\n",
            "3.55  Dark Desire (I) | Eighth\n",
            "1 Greenleaf Concentrates | Budder   1G\n",
            "1 Greenleaf Concentrates | Budder   1G\n",
            "1 Greenleaf Concentrates | Budder   1G\n",
            "1 Kaviar | Infused Bud   1G\n",
            "3.55  Shake\n",
            "3.55  Shake\n",
            "3.55  Shake\n",
            "3.55  Shake\n",
            "3.55  Shake\n",
            "5   Pre Rolled Joints   5 for $25\n",
            "5   Pre Rolled Joints   5 for $25\n",
            "3.55  Shake\n",
            "28.0  Shake\n",
            "28.0  Shake\n",
            "3.55  Dark Desire (I) | Eighth\n",
            "1 Mezz | Disposable Vape Pen   300mg\n",
            "3.55  Shake\n",
            "3.55  Golden Goat (S) | Eighth\n",
            "1 Keef Life | 100mg\n",
            "1 Greenleaf Concentrates | Budder   1G\n",
            "3.55  Shake\n",
            "3.55  Shake\n",
            "3.55  Shake\n",
            "28.0  Shake\n",
            "3.55  Shake\n",
            "3.55  Shake\n",
            "1 Gas Factory | Gummies   100mg\n",
            "1 Gas Factory | Gummies   100mg\n",
            "3.55  Sherb Breath (I) | Eighth\n",
            "3.55  Gushers (I) | Eighth\n",
            "3.55  Shake\n",
            "1   Single Pre Rolls\n",
            "1 Altus | Gummies   100mg\n",
            "1 Altus | Gummies   100mg\n",
            "1 Greenleaf Concentrates | Budder   1G\n",
            "3.55  Shake\n",
            "5   Pre Rolled Joints   5 for $25\n",
            "3.55  Shake\n",
            "3.55  Shake\n",
            "  Battery | Airo Pro\n",
            "28.0  Shake\n",
            "28.0  Shake\n",
            "3.55  Shake\n",
            "3.55  Shake\n",
            "3.55  Witches Weed (S) | Eighth\n",
            "1   Single Pre Rolls\n",
            "1 Greenleaf Concentrates | Budder   1G\n",
            "1 Greenleaf Concentrates | Budder   1G\n",
            "28.0  Shake\n",
            "28.0  Shake\n",
            "3.55  Shake\n",
            "3.55  Shake\n"
          ],
          "name": "stdout"
        }
      ]
    },
    {
      "cell_type": "markdown",
      "metadata": {
        "id": "Qn_hfZxnyuL7"
      },
      "source": [
        "Actually running the functions."
      ]
    },
    {
      "cell_type": "code",
      "metadata": {
        "id": "kmtWL9E1iJJ1",
        "outputId": "a61a7cdd-fcf9-448d-d5e1-fabbaab25436",
        "colab": {
          "base_uri": "https://localhost:8080/"
        }
      },
      "source": [
        "FirstMETRC=GenerateReport(TestProducts)"
      ],
      "execution_count": 11,
      "outputs": [
        {
          "output_type": "stream",
          "text": [
            "3.55  Shake\n",
            "1 Chronic Creations | Wax   1G\n",
            "1 Juicy | Hemp Wraps\n",
            "3.55  Shake\n",
            "3.55  Shake\n",
            "1 Greenleaf Concentrates | Budder   1G\n",
            "1 Greenleaf Concentrates | Budder   1G\n",
            "1 Greenleaf Concentrates | Budder   1G\n",
            "1 Greenleaf Concentrates | Budder   1G\n",
            "1 Canyon Cultivation | Suck IT   100mg\n",
            "3.55  Shake\n",
            "28.0  Shake\n",
            "3.55  Shake\n",
            "1   Single Pre Rolls\n",
            "1   Single Pre Rolls\n",
            "1   Single Pre Rolls\n",
            "1   Single Pre Rolls\n",
            "28.0  Shake\n",
            "28.0  Shake\n",
            "3.55  Dark Desire (I) | Eighth\n",
            "1 Pipe | Small\n",
            "1 Gas Factory | Gummies   100mg\n",
            "1 Gas Factory | Gummies   100mg\n",
            "1 Altus | Gummies   100mg\n",
            "1 Altus | Gummies   100mg\n",
            "1   Kaviar | Joint – 1.5G\n",
            "3.55  Shake\n",
            "28.0  Shake\n",
            "3.55  Cosmonaut (S) | Eighth\n",
            "3.55  Dark Desire (I) | Eighth\n",
            "3.55  Witches Weed (S) | Eighth\n",
            "1 Greenleaf Concentrates | Budder   1G\n",
            "1 Gas Factory | Gummies   100mg\n",
            "1 Gas Factory | Gummies   100mg\n",
            "1 Juicy | Hemp Wraps\n",
            "1 Raw Cones   $5\n",
            "1.05  Sundae Driver (H) | Gram\n",
            "1.05  Secret Mints (H) | Gram\n",
            "3.55  Shake\n",
            "1 Kaviar | Infused Bud   1G\n",
            "1   Single Pre Rolls\n",
            "1 Kaviar | Infused Bud   1G\n",
            "3.55  Shake\n",
            "1.05  Secret Mints (H) | Gram\n",
            "1.05  Sundae Driver (H) | Gram\n",
            "1 High Hemp | Organic Wraps\n",
            "1   Single Pre Rolls\n",
            "1 Harmony Orders\n",
            "1.05  Gelato (I) | Gram\n",
            "1 Concentrate Supply Co. | High Terpene Sauce Cart   500mg\n",
            "3.55  Shake\n",
            "1 Gas Factory | Gummies   100mg\n",
            "28.0  Shake\n",
            "1.05  Apple Fritter (H) | Gram\n",
            "1.05  Secret Mints (H) | Gram\n",
            "1.05  Juggernaut (S) | Gram\n",
            "3.55  Juggernaut (S) | Eighth\n",
            "3.55  Witches Weed (S) | Eighth\n",
            "3.55  AK 47 (S) | Eighth\n",
            "1 Chronic Creations | Shatter   1G\n",
            "1 Altus | Gummies   100mg\n",
            "3.55  Gelato Cake (I) | Eighth\n",
            "1   Single Pre Rolls\n",
            "1   Single Pre Rolls\n",
            "3.55  Shake\n",
            "5   Pre Rolled Joints   5 for $25\n",
            "3.55  Shake\n",
            "5   Pre Rolled Joints   5 for $25\n",
            "1.05  Apple Fritter (H) | Gram\n",
            "3.55  Shake\n",
            "3.55  Shake\n",
            "1.05  Cosmonaut (S) | Gram\n",
            "5   Pre Rolled Joints   5 for $25\n",
            "3.55  Shake\n",
            "3.55  Shake\n",
            "1 High Hemp | Organic Wraps\n",
            "1 Gas Factory | Gummies   100mg\n",
            "28.0  Shake\n",
            "28.0  Shake\n",
            "1 Juicy | Hemp Wraps\n",
            "3.55  Shake\n",
            "3.55  Shake\n",
            "1 Canyon Cultivation | Suck IT   100mg\n",
            "5   Pre Rolled Joints   5 for $25\n",
            "5   Pre Rolled Joints   5 for $25\n",
            "28.0  Shake\n",
            "3.55  Shake\n",
            "1 Greenleaf Concentrates | Budder   1G\n",
            "28.0  Shake\n",
            "1 Chronic Creations | Shatter   1G\n",
            "3.55  Gelato Cake (I) | Eighth\n",
            "1   Single Pre Rolls\n",
            "1   Kaviar | Joint – 1.5G\n",
            "3.55  Dark Desire (I) | Eighth\n",
            "1 Greenleaf Concentrates | Budder   1G\n",
            "1 Greenleaf Concentrates | Budder   1G\n",
            "1 Greenleaf Concentrates | Budder   1G\n",
            "1 Kaviar | Infused Bud   1G\n",
            "3.55  Shake\n",
            "3.55  Shake\n",
            "3.55  Shake\n",
            "3.55  Shake\n",
            "3.55  Shake\n",
            "5   Pre Rolled Joints   5 for $25\n",
            "5   Pre Rolled Joints   5 for $25\n",
            "3.55  Shake\n",
            "28.0  Shake\n",
            "28.0  Shake\n",
            "3.55  Dark Desire (I) | Eighth\n",
            "1 Mezz | Disposable Vape Pen   300mg\n",
            "3.55  Shake\n",
            "3.55  Golden Goat (S) | Eighth\n",
            "1 Keef Life | 100mg\n",
            "1 Greenleaf Concentrates | Budder   1G\n",
            "3.55  Shake\n",
            "3.55  Shake\n",
            "3.55  Shake\n",
            "28.0  Shake\n",
            "3.55  Shake\n",
            "3.55  Shake\n",
            "1 Gas Factory | Gummies   100mg\n",
            "1 Gas Factory | Gummies   100mg\n",
            "3.55  Sherb Breath (I) | Eighth\n",
            "3.55  Gushers (I) | Eighth\n",
            "3.55  Shake\n",
            "1   Single Pre Rolls\n",
            "1 Altus | Gummies   100mg\n",
            "1 Altus | Gummies   100mg\n",
            "1 Greenleaf Concentrates | Budder   1G\n",
            "3.55  Shake\n",
            "5   Pre Rolled Joints   5 for $25\n",
            "3.55  Shake\n",
            "3.55  Shake\n",
            "1  Battery | Airo Pro\n",
            "28.0  Shake\n",
            "28.0  Shake\n",
            "3.55  Shake\n",
            "3.55  Shake\n",
            "3.55  Witches Weed (S) | Eighth\n",
            "1   Single Pre Rolls\n",
            "1 Greenleaf Concentrates | Budder   1G\n",
            "1 Greenleaf Concentrates | Budder   1G\n",
            "28.0  Shake\n",
            "28.0  Shake\n",
            "3.55  Shake\n",
            "3.55  Shake\n"
          ],
          "name": "stdout"
        }
      ]
    },
    {
      "cell_type": "code",
      "metadata": {
        "id": "delx0YZ3ivXP"
      },
      "source": [
        "df=pd.DataFrame(FirstMETRC).sort_values(by='Date and Time')"
      ],
      "execution_count": 12,
      "outputs": []
    },
    {
      "cell_type": "code",
      "metadata": {
        "id": "QR5eGiXIkqSx"
      },
      "source": [
        "df.to_csv('./Federal2020_11_13.csv')"
      ],
      "execution_count": 13,
      "outputs": []
    },
    {
      "cell_type": "markdown",
      "metadata": {
        "id": "-e6pDV5CynS5"
      },
      "source": [
        "This lil guy right here is to be exported through the django hook."
      ]
    },
    {
      "cell_type": "code",
      "metadata": {
        "id": "zZIqaEiJtyTI",
        "outputId": "849b046f-5cc5-4ad1-b8d3-592feea705b6",
        "colab": {
          "base_uri": "https://localhost:8080/",
          "height": 402
        }
      },
      "source": [
        "df\n"
      ],
      "execution_count": 14,
      "outputs": [
        {
          "output_type": "execute_result",
          "data": {
            "text/html": [
              "<div>\n",
              "<style scoped>\n",
              "    .dataframe tbody tr th:only-of-type {\n",
              "        vertical-align: middle;\n",
              "    }\n",
              "\n",
              "    .dataframe tbody tr th {\n",
              "        vertical-align: top;\n",
              "    }\n",
              "\n",
              "    .dataframe thead th {\n",
              "        text-align: right;\n",
              "    }\n",
              "</style>\n",
              "<table border=\"1\" class=\"dataframe\">\n",
              "  <thead>\n",
              "    <tr style=\"text-align: right;\">\n",
              "      <th></th>\n",
              "      <th>Date and Time</th>\n",
              "      <th>Product Info</th>\n",
              "      <th>METRC Tag</th>\n",
              "      <th>Total Weight</th>\n",
              "      <th>Unit of Measure</th>\n",
              "      <th>SubTotal</th>\n",
              "    </tr>\n",
              "  </thead>\n",
              "  <tbody>\n",
              "    <tr>\n",
              "      <th>145</th>\n",
              "      <td>2020-11-11 21:54:32</td>\n",
              "      <td>Shake</td>\n",
              "      <td>1A4000B0000E0A1000004213</td>\n",
              "      <td>3.55</td>\n",
              "      <td>Grams</td>\n",
              "      <td>7.94</td>\n",
              "    </tr>\n",
              "    <tr>\n",
              "      <th>139</th>\n",
              "      <td>2020-11-12 08:02:03</td>\n",
              "      <td>Single Pre Rolls</td>\n",
              "      <td>1A4000B0000E0A1000002786</td>\n",
              "      <td>1.00</td>\n",
              "      <td>Grams</td>\n",
              "      <td>5.56</td>\n",
              "    </tr>\n",
              "    <tr>\n",
              "      <th>135</th>\n",
              "      <td>2020-11-12 08:23:28</td>\n",
              "      <td>Shake</td>\n",
              "      <td>1A4000B0000E0A1000004218</td>\n",
              "      <td>28.00</td>\n",
              "      <td>Grams</td>\n",
              "      <td>47.65</td>\n",
              "    </tr>\n",
              "    <tr>\n",
              "      <th>141</th>\n",
              "      <td>2020-11-12 08:46:22</td>\n",
              "      <td>Greenleaf Concentrates | Budder   1G</td>\n",
              "      <td>1A4000B0000E0A1000003650</td>\n",
              "      <td>1.00</td>\n",
              "      <td>Each</td>\n",
              "      <td>11.91</td>\n",
              "    </tr>\n",
              "    <tr>\n",
              "      <th>140</th>\n",
              "      <td>2020-11-12 08:46:22</td>\n",
              "      <td>Greenleaf Concentrates | Budder   1G</td>\n",
              "      <td>1A4000B0000E0A1000003655</td>\n",
              "      <td>1.00</td>\n",
              "      <td>Each</td>\n",
              "      <td>11.91</td>\n",
              "    </tr>\n",
              "    <tr>\n",
              "      <th>...</th>\n",
              "      <td>...</td>\n",
              "      <td>...</td>\n",
              "      <td>...</td>\n",
              "      <td>...</td>\n",
              "      <td>...</td>\n",
              "      <td>...</td>\n",
              "    </tr>\n",
              "    <tr>\n",
              "      <th>73</th>\n",
              "      <td>2020-11-12 22:02:23</td>\n",
              "      <td>Shake</td>\n",
              "      <td>1A4000B0000E0A1000004213</td>\n",
              "      <td>7.10</td>\n",
              "      <td>Grams</td>\n",
              "      <td>15.88</td>\n",
              "    </tr>\n",
              "    <tr>\n",
              "      <th>132</th>\n",
              "      <td>2020-11-12 22:02:29</td>\n",
              "      <td>Shake</td>\n",
              "      <td>1A4000B0000E0A1000004213</td>\n",
              "      <td>7.10</td>\n",
              "      <td>Grams</td>\n",
              "      <td>15.88</td>\n",
              "    </tr>\n",
              "    <tr>\n",
              "      <th>67</th>\n",
              "      <td>2020-11-12 22:02:31</td>\n",
              "      <td>Pre Rolled Joints   5 for $25</td>\n",
              "      <td>1A4000B0000E0A1000004171</td>\n",
              "      <td>5.00</td>\n",
              "      <td>Grams</td>\n",
              "      <td>19.86</td>\n",
              "    </tr>\n",
              "    <tr>\n",
              "      <th>1</th>\n",
              "      <td>2020-11-12 22:02:46</td>\n",
              "      <td>Chronic Creations | Wax   1G</td>\n",
              "      <td>1A4000B0000E0A1000003457</td>\n",
              "      <td>1.00</td>\n",
              "      <td>Each</td>\n",
              "      <td>19.86</td>\n",
              "    </tr>\n",
              "    <tr>\n",
              "      <th>0</th>\n",
              "      <td>2020-11-13 06:09:05</td>\n",
              "      <td>Shake</td>\n",
              "      <td>1A4000B0000E0A1000004213</td>\n",
              "      <td>3.55</td>\n",
              "      <td>Grams</td>\n",
              "      <td>3.97</td>\n",
              "    </tr>\n",
              "  </tbody>\n",
              "</table>\n",
              "<p>146 rows × 6 columns</p>\n",
              "</div>"
            ],
            "text/plain": [
              "          Date and Time  ... SubTotal\n",
              "145 2020-11-11 21:54:32  ...     7.94\n",
              "139 2020-11-12 08:02:03  ...     5.56\n",
              "135 2020-11-12 08:23:28  ...    47.65\n",
              "141 2020-11-12 08:46:22  ...    11.91\n",
              "140 2020-11-12 08:46:22  ...    11.91\n",
              "..                  ...  ...      ...\n",
              "73  2020-11-12 22:02:23  ...    15.88\n",
              "132 2020-11-12 22:02:29  ...    15.88\n",
              "67  2020-11-12 22:02:31  ...    19.86\n",
              "1   2020-11-12 22:02:46  ...    19.86\n",
              "0   2020-11-13 06:09:05  ...     3.97\n",
              "\n",
              "[146 rows x 6 columns]"
            ]
          },
          "metadata": {
            "tags": []
          },
          "execution_count": 14
        }
      ]
    },
    {
      "cell_type": "markdown",
      "metadata": {
        "id": "gJZUlCD4qSnb"
      },
      "source": [
        "Ideally I can use this to generate a daily to-do list, I wonder if I can get access to wheniwork chat and actually message the individuals who were logged in. That should be straightforward enough.\n",
        "\n",
        "Ugh okay, so. "
      ]
    },
    {
      "cell_type": "code",
      "metadata": {
        "id": "d_uiIoDRNWZW"
      },
      "source": [
        ""
      ],
      "execution_count": null,
      "outputs": []
    }
  ]
}